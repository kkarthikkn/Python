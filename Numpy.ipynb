{
 "cells": [
  {
   "cell_type": "markdown",
   "id": "cc50df10-e706-4176-a8da-f2e01ec66501",
   "metadata": {},
   "source": [
    "<h1>NumPy</h1>"
   ]
  },
  {
   "cell_type": "code",
   "execution_count": 1,
   "id": "9a653bae-8dcb-4654-a4db-9fa547436f4e",
   "metadata": {},
   "outputs": [],
   "source": [
    "import numpy as np"
   ]
  },
  {
   "cell_type": "markdown",
   "id": "5d9e3e81-eb4e-40c2-be3b-27367af2bb28",
   "metadata": {},
   "source": [
    "<h2>1D Array"
   ]
  },
  {
   "cell_type": "code",
   "execution_count": 19,
   "id": "c771125d-a099-4b6b-8de0-dd391e2de621",
   "metadata": {},
   "outputs": [
    {
     "name": "stdout",
     "output_type": "stream",
     "text": [
      "[1 2 3 4 5]\n"
     ]
    }
   ],
   "source": [
    "a=np.array([1,2,3,4,5],dtype='int16')\n",
    "print(a)"
   ]
  },
  {
   "cell_type": "markdown",
   "id": "953f3887-29dd-4f09-8fc1-65c4cfbcf714",
   "metadata": {},
   "source": [
    "<h2>2D Array"
   ]
  },
  {
   "cell_type": "code",
   "execution_count": 26,
   "id": "6b1e1e92-3b49-477c-b2c0-307ce7fa6d0f",
   "metadata": {},
   "outputs": [
    {
     "name": "stdout",
     "output_type": "stream",
     "text": [
      "[[ 5.2  2.9  8.3  4.1  5. ]\n",
      " [ 7.   3.3  9.5  6.  10.5]]\n"
     ]
    }
   ],
   "source": [
    "b=np.array([[5.2,2.9,8.3,4.1,5.0], [7.0,3.3,9.5,6.0,10.5]], dtype='float32')\n",
    "print(b)"
   ]
  },
  {
   "cell_type": "markdown",
   "id": "e604e467-d767-41b0-a556-56877e6125b3",
   "metadata": {},
   "source": [
    "<p> Sort</p>"
   ]
  },
  {
   "cell_type": "code",
   "execution_count": 264,
   "id": "a5525667-2e84-4145-9ab7-81256d646d07",
   "metadata": {},
   "outputs": [
    {
     "data": {
      "text/plain": [
       "array([[ 2.9,  4.1,  5. ,  5.2,  8.3],\n",
       "       [ 3.3,  6. ,  7. ,  9.5, 10.5]], dtype=float32)"
      ]
     },
     "execution_count": 264,
     "metadata": {},
     "output_type": "execute_result"
    }
   ],
   "source": [
    "b.sort()   # or   np.sort(b)\n",
    "b"
   ]
  },
  {
   "cell_type": "code",
   "execution_count": 12,
   "id": "dd106b2c-f602-472d-8df7-29b7d4f88ce6",
   "metadata": {},
   "outputs": [
    {
     "data": {
      "text/plain": [
       "2"
      ]
     },
     "execution_count": 12,
     "metadata": {},
     "output_type": "execute_result"
    }
   ],
   "source": [
    "# get the no. of dimensions\n",
    "a.ndim  #---> 1d\n",
    "b.ndim  #---> 2d"
   ]
  },
  {
   "cell_type": "code",
   "execution_count": 15,
   "id": "cfee9232-0585-4152-ac93-869c68d2c8ff",
   "metadata": {},
   "outputs": [
    {
     "data": {
      "text/plain": [
       "(2, 5)"
      ]
     },
     "execution_count": 15,
     "metadata": {},
     "output_type": "execute_result"
    }
   ],
   "source": [
    "# returns the shape (row,col)\n",
    "b.shape"
   ]
  },
  {
   "cell_type": "code",
   "execution_count": 27,
   "id": "266ef4c3-b9ee-465f-ae8d-e517b690f51a",
   "metadata": {},
   "outputs": [
    {
     "data": {
      "text/plain": [
       "dtype('float32')"
      ]
     },
     "execution_count": 27,
     "metadata": {},
     "output_type": "execute_result"
    }
   ],
   "source": [
    "# returns the data type (manually able to change the dtype while initializing)\n",
    "a.dtype  \n",
    "b.dtype "
   ]
  },
  {
   "cell_type": "code",
   "execution_count": 32,
   "id": "3f476f63-169c-473e-a772-f9c5dc374136",
   "metadata": {},
   "outputs": [
    {
     "data": {
      "text/plain": [
       "2"
      ]
     },
     "execution_count": 32,
     "metadata": {},
     "output_type": "execute_result"
    }
   ],
   "source": [
    "# returns size of the array\n",
    "a.itemsize"
   ]
  },
  {
   "cell_type": "code",
   "execution_count": 33,
   "id": "50b28b51-1868-4c37-a69b-e242db3f97ce",
   "metadata": {},
   "outputs": [
    {
     "data": {
      "text/plain": [
       "10"
      ]
     },
     "execution_count": 33,
     "metadata": {},
     "output_type": "execute_result"
    }
   ],
   "source": [
    "# returns the total size\n",
    "a.nbytes   # [a.size * a.itemsize]"
   ]
  },
  {
   "cell_type": "code",
   "execution_count": 34,
   "id": "631c307c-7b50-4ee7-8007-a4b7f190adca",
   "metadata": {},
   "outputs": [
    {
     "data": {
      "text/plain": [
       "10"
      ]
     },
     "execution_count": 34,
     "metadata": {},
     "output_type": "execute_result"
    }
   ],
   "source": [
    "a.size * a.itemsize"
   ]
  },
  {
   "cell_type": "code",
   "execution_count": 69,
   "id": "9398c812-ca88-4c5a-83a9-965f74057ab6",
   "metadata": {},
   "outputs": [
    {
     "data": {
      "text/plain": [
       "numpy.ndarray"
      ]
     },
     "execution_count": 69,
     "metadata": {},
     "output_type": "execute_result"
    }
   ],
   "source": [
    "type(a)"
   ]
  },
  {
   "cell_type": "markdown",
   "id": "0e9c53d8-30a3-439d-947f-0b9228c2da46",
   "metadata": {},
   "source": [
    "<h3> Accessing/changing specific elements in row/col"
   ]
  },
  {
   "cell_type": "code",
   "execution_count": 60,
   "id": "4b934fc2-ab0e-4907-a27e-cf4ee1221e0e",
   "metadata": {},
   "outputs": [
    {
     "name": "stdout",
     "output_type": "stream",
     "text": [
      "[[ 1  2  3  4  5  6  7]\n",
      " [ 8  9 10 11 12 13 14]]\n"
     ]
    }
   ],
   "source": [
    "c=np.array([[1,2,3,4,5,6,7],[8,9,10,11,12,13,14]])\n",
    "print(c)"
   ]
  },
  {
   "cell_type": "code",
   "execution_count": 61,
   "id": "3616d2a5-9fca-4a11-82b7-52ae0797e475",
   "metadata": {},
   "outputs": [
    {
     "data": {
      "text/plain": [
       "13"
      ]
     },
     "execution_count": 61,
     "metadata": {},
     "output_type": "execute_result"
    }
   ],
   "source": [
    "# accessing a specific element [row, col]\n",
    "c[1,5]"
   ]
  },
  {
   "cell_type": "code",
   "execution_count": 62,
   "id": "6b1ed939-d104-49d2-b519-646e6e9e4f92",
   "metadata": {},
   "outputs": [
    {
     "data": {
      "text/plain": [
       "array([1, 2, 3, 4, 5, 6, 7])"
      ]
     },
     "execution_count": 62,
     "metadata": {},
     "output_type": "execute_result"
    }
   ],
   "source": [
    "# to get specific row\n",
    "c[0,:]  # returns 0th row "
   ]
  },
  {
   "cell_type": "code",
   "execution_count": 63,
   "id": "9f543235-6dd5-484f-badf-d5a925511c19",
   "metadata": {},
   "outputs": [
    {
     "data": {
      "text/plain": [
       "array([ 3, 10])"
      ]
     },
     "execution_count": 63,
     "metadata": {},
     "output_type": "execute_result"
    }
   ],
   "source": [
    "c[:,2]  # returns the 2nd ele of the col in every row"
   ]
  },
  {
   "cell_type": "code",
   "execution_count": 64,
   "id": "5ba5c266-8190-4a68-bf02-ab5badadf819",
   "metadata": {},
   "outputs": [
    {
     "data": {
      "text/plain": [
       "array([2, 4])"
      ]
     },
     "execution_count": 64,
     "metadata": {},
     "output_type": "execute_result"
    }
   ],
   "source": [
    "# returns the ele of 0th row & col element from index 1 to 5 with the stepsize of 2\n",
    "c[0,1:5:2]"
   ]
  },
  {
   "cell_type": "markdown",
   "id": "85257e51-d237-4f42-867d-91e78e51c358",
   "metadata": {},
   "source": [
    "updating the values"
   ]
  },
  {
   "cell_type": "code",
   "execution_count": 67,
   "id": "61f34d5a-f881-4407-a09f-ebd9e43d9992",
   "metadata": {},
   "outputs": [
    {
     "name": "stdout",
     "output_type": "stream",
     "text": [
      "[[ 1  2  3  4  5  6  7]\n",
      " [ 8  9 10 11 18 13 14]]\n"
     ]
    }
   ],
   "source": [
    "c[1,4]=18     # updates\n",
    "print(c)"
   ]
  },
  {
   "cell_type": "code",
   "execution_count": 73,
   "id": "0bb12637-0ca5-4257-9258-5dc6e75ab931",
   "metadata": {},
   "outputs": [
    {
     "name": "stdout",
     "output_type": "stream",
     "text": [
      "[[ 1  2  2  4  5  6  7]\n",
      " [ 8  9  9 11 18 13 14]]\n"
     ]
    }
   ],
   "source": [
    "c[:,2]=[2,9]   # updates the 2nd col with the series of element like 2,9\n",
    "print(c)"
   ]
  },
  {
   "cell_type": "code",
   "execution_count": null,
   "id": "fd6b16fc-e45b-4b8d-85d2-1c1cda19ccb1",
   "metadata": {},
   "outputs": [],
   "source": []
  },
  {
   "cell_type": "markdown",
   "id": "56e6d879-fa24-4eb8-b072-65430a2b7b57",
   "metadata": {},
   "source": [
    "---"
   ]
  },
  {
   "cell_type": "markdown",
   "id": "f7380886-6890-4069-a4ab-e7c733b1705c",
   "metadata": {},
   "source": [
    "<h4>Initializing different types of arrays</h4>"
   ]
  },
  {
   "cell_type": "code",
   "execution_count": 78,
   "id": "d5d751bf-1284-445a-92d1-bc0bdaa395b2",
   "metadata": {
    "collapsed": true,
    "jupyter": {
     "outputs_hidden": true
    }
   },
   "outputs": [
    {
     "data": {
      "text/plain": [
       "array([[[[0, 0, 0, 0],\n",
       "         [0, 0, 0, 0],\n",
       "         [0, 0, 0, 0]],\n",
       "\n",
       "        [[0, 0, 0, 0],\n",
       "         [0, 0, 0, 0],\n",
       "         [0, 0, 0, 0]]],\n",
       "\n",
       "\n",
       "       [[[0, 0, 0, 0],\n",
       "         [0, 0, 0, 0],\n",
       "         [0, 0, 0, 0]],\n",
       "\n",
       "        [[0, 0, 0, 0],\n",
       "         [0, 0, 0, 0],\n",
       "         [0, 0, 0, 0]]],\n",
       "\n",
       "\n",
       "       [[[0, 0, 0, 0],\n",
       "         [0, 0, 0, 0],\n",
       "         [0, 0, 0, 0]],\n",
       "\n",
       "        [[0, 0, 0, 0],\n",
       "         [0, 0, 0, 0],\n",
       "         [0, 0, 0, 0]]]], dtype=int8)"
      ]
     },
     "execution_count": 78,
     "metadata": {},
     "output_type": "execute_result"
    }
   ],
   "source": [
    "np.zeros((3,2,3,4),dtype='int8')"
   ]
  },
  {
   "cell_type": "code",
   "execution_count": null,
   "id": "3fcf4fec-8561-4d3a-b7c0-b4a71f2e87d3",
   "metadata": {},
   "outputs": [],
   "source": [
    "''' for understaning:\n",
    "\n",
    "    [0., 0., 0., 0.],       [0., 0., 0., 0.],\n",
    "    [0., 0., 0., 0.],       [0., 0., 0., 0.],\n",
    "    [0., 0., 0., 0.],       [0., 0., 0., 0.],\n",
    "\n",
    "    [0., 0., 0., 0.],        [0., 0., 0., 0.],\n",
    "    [0., 0., 0., 0.],        [0., 0., 0., 0.],\n",
    "    [0., 0., 0., 0.],        [0., 0., 0., 0.], \n",
    "\n",
    "    [0., 0., 0., 0.],        [0., 0., 0., 0.],\n",
    "    [0., 0., 0., 0.],        [0., 0., 0., 0.],\n",
    "    [0., 0., 0., 0.],        [0., 0., 0., 0.],  \n",
    "\n",
    "structures the arry like this with\n",
    "    * 3 blocks (1st dim)\n",
    "    * each 3 blocks contains 2 matices\n",
    "    * the matrices with the dim of 3*4\n",
    "\n",
    "'''"
   ]
  },
  {
   "cell_type": "code",
   "execution_count": 93,
   "id": "89e6f6e5-9a92-455d-94ab-a15dfd076995",
   "metadata": {},
   "outputs": [
    {
     "data": {
      "text/plain": [
       "array([[[[1, 1],\n",
       "         [1, 1]],\n",
       "\n",
       "        [[1, 1],\n",
       "         [1, 1]],\n",
       "\n",
       "        [[1, 1],\n",
       "         [1, 1]],\n",
       "\n",
       "        [[1, 1],\n",
       "         [1, 1]]],\n",
       "\n",
       "\n",
       "       [[[1, 1],\n",
       "         [1, 1]],\n",
       "\n",
       "        [[1, 1],\n",
       "         [1, 1]],\n",
       "\n",
       "        [[1, 1],\n",
       "         [1, 1]],\n",
       "\n",
       "        [[1, 1],\n",
       "         [1, 1]]]])"
      ]
     },
     "execution_count": 93,
     "metadata": {},
     "output_type": "execute_result"
    }
   ],
   "source": [
    "np.ones((2,4,2,2), dtype='int32')"
   ]
  },
  {
   "cell_type": "code",
   "execution_count": null,
   "id": "e98bb0b8-b273-4507-a483-d079ea786b89",
   "metadata": {},
   "outputs": [],
   "source": [
    "'''\n",
    "    * 2 blocks\n",
    "    * 3 matrices\n",
    "    * dim of 2*2\n",
    "'''"
   ]
  },
  {
   "cell_type": "code",
   "execution_count": 99,
   "id": "a5d7c739-8693-4171-9e98-0f258dbdc241",
   "metadata": {},
   "outputs": [
    {
     "data": {
      "text/plain": [
       "array([[5, 5, 5],\n",
       "       [5, 5, 5]])"
      ]
     },
     "execution_count": 99,
     "metadata": {},
     "output_type": "execute_result"
    }
   ],
   "source": [
    "# array value with any numbers  --> np.full((row*col), value)\n",
    "np.full((2,3),5)"
   ]
  },
  {
   "cell_type": "code",
   "execution_count": 236,
   "id": "424610e5-38b2-43ec-904d-83913d104640",
   "metadata": {},
   "outputs": [
    {
     "data": {
      "text/plain": [
       "array([[7, 7, 7, 7, 7, 7, 7],\n",
       "       [7, 7, 7, 7, 7, 7, 7]])"
      ]
     },
     "execution_count": 236,
     "metadata": {},
     "output_type": "execute_result"
    }
   ],
   "source": [
    "# fills the existing array values with the new value  --> np.full_like(arr_name, value)\n",
    "np.full_like(c,7)"
   ]
  },
  {
   "cell_type": "markdown",
   "id": "84b91851-71cd-4cad-b756-e8dec3148ef8",
   "metadata": {},
   "source": [
    "<h4>Random numbers"
   ]
  },
  {
   "cell_type": "code",
   "execution_count": 265,
   "id": "c38139f6-1de1-43a8-8da6-69841cb151fd",
   "metadata": {},
   "outputs": [],
   "source": [
    "import numpy.random"
   ]
  },
  {
   "cell_type": "code",
   "execution_count": 266,
   "id": "0ca003b2-8de4-4cb2-9109-bd586209e8ba",
   "metadata": {},
   "outputs": [
    {
     "data": {
      "text/plain": [
       "array([[0.22776926, 0.21351439, 0.74619914],\n",
       "       [0.06991989, 0.38626329, 0.91095865],\n",
       "       [0.11206525, 0.07375903, 0.94374391],\n",
       "       [0.92979499, 0.88279827, 0.5409311 ]])"
      ]
     },
     "execution_count": 266,
     "metadata": {},
     "output_type": "execute_result"
    }
   ],
   "source": [
    "np.random.rand(4,3)  # decimal values"
   ]
  },
  {
   "cell_type": "code",
   "execution_count": 115,
   "id": "51acefb9-ba31-44c2-a978-5f7a0bcffb1f",
   "metadata": {},
   "outputs": [
    {
     "data": {
      "text/plain": [
       "array([[6, 6, 8],\n",
       "       [7, 6, 7]])"
      ]
     },
     "execution_count": 115,
     "metadata": {},
     "output_type": "execute_result"
    }
   ],
   "source": [
    "# integer with the values from 5 to 9 forming an matrix of 2*3\n",
    "np.random.randint(5,9, size=(2,3))  "
   ]
  },
  {
   "cell_type": "code",
   "execution_count": 219,
   "id": "bfa75335-2c9e-4606-9e6e-5c636187560f",
   "metadata": {},
   "outputs": [
    {
     "data": {
      "text/plain": [
       "array([[1, 0, 0, 0],\n",
       "       [0, 1, 0, 0],\n",
       "       [0, 0, 1, 0],\n",
       "       [0, 0, 0, 1]])"
      ]
     },
     "execution_count": 219,
     "metadata": {},
     "output_type": "execute_result"
    }
   ],
   "source": [
    "# matrix with the values of n*n with the diagonal element as 1\n",
    "np.identity(4, dtype=\"int\")  "
   ]
  },
  {
   "cell_type": "code",
   "execution_count": 123,
   "id": "8ef5c59d-67bb-46f6-93a6-303ace5b8e24",
   "metadata": {},
   "outputs": [
    {
     "name": "stdout",
     "output_type": "stream",
     "text": [
      "[[4 5 6]\n",
      " [4 5 6]\n",
      " [4 5 6]]\n"
     ]
    }
   ],
   "source": [
    "# repeate the arr elements\n",
    "arr=np.array([[4,5,6]])\n",
    "rep=np.repeat(arr,3,axis=0)  # repeats 3 times on 0th axis(column)\n",
    "print(rep)"
   ]
  },
  {
   "cell_type": "code",
   "execution_count": 127,
   "id": "afdeffbc-9fff-4ba7-be33-07b549088ea0",
   "metadata": {},
   "outputs": [
    {
     "name": "stdout",
     "output_type": "stream",
     "text": [
      "[[1 1 1 1 1]\n",
      " [1 1 1 1 1]\n",
      " [1 1 1 1 1]\n",
      " [1 1 1 1 1]\n",
      " [1 1 1 1 1]]\n"
     ]
    }
   ],
   "source": [
    "outp=np.ones((5,5), dtype='int16')\n",
    "print(outp)"
   ]
  },
  {
   "cell_type": "markdown",
   "id": "ba45721b-ad5f-46d8-a69d-29a18a03606c",
   "metadata": {},
   "source": [
    "<h4>Mathematical Operations</h4>"
   ]
  },
  {
   "cell_type": "code",
   "execution_count": 168,
   "id": "44307f05-41ed-46e7-b2cf-77f8f33ac712",
   "metadata": {},
   "outputs": [
    {
     "data": {
      "text/plain": [
       "array([5, 6, 7, 8])"
      ]
     },
     "execution_count": 168,
     "metadata": {},
     "output_type": "execute_result"
    }
   ],
   "source": [
    "x=np.array([5,6,7,8])\n",
    "x"
   ]
  },
  {
   "cell_type": "code",
   "execution_count": 169,
   "id": "0c70b594-6b1b-424c-8098-c23d6203d835",
   "metadata": {},
   "outputs": [
    {
     "data": {
      "text/plain": [
       "array([ 5,  6, 20,  8])"
      ]
     },
     "execution_count": 169,
     "metadata": {},
     "output_type": "execute_result"
    }
   ],
   "source": [
    "y=x.copy()\n",
    "y[2]=20\n",
    "y"
   ]
  },
  {
   "cell_type": "code",
   "execution_count": 170,
   "id": "a49527d4-3984-4069-a1f5-fe69cd24437c",
   "metadata": {},
   "outputs": [
    {
     "name": "stdout",
     "output_type": "stream",
     "text": [
      "add  [ 7  8 22 10]\n",
      "sub  [ 3  4 18  6]\n",
      "mul  [10 12 40 16]\n",
      "div  [ 2.5  3.  10.   4. ]\n",
      "pow  [ 25  36 400  64]\n",
      "incr  [ 8  9 23 11]\n",
      "decr  [ 7  8 22 10]\n"
     ]
    }
   ],
   "source": [
    "print(\"add \",y+2)\n",
    "print(\"sub \",y-2)\n",
    "print(\"mul \",y*2)\n",
    "print(\"div \",y/2)\n",
    "print(\"pow \",y**2)\n",
    "y += 3\n",
    "print(\"incr \",y)\n",
    "y -= 1\n",
    "print(\"decr \",y)"
   ]
  },
  {
   "cell_type": "code",
   "execution_count": 171,
   "id": "b34a2fc1-892d-45c6-b0d2-c848ffee6812",
   "metadata": {},
   "outputs": [
    {
     "name": "stdout",
     "output_type": "stream",
     "text": [
      "[ 0.6569866   0.98935825 -0.00885131 -0.54402111]\n",
      "[ 0.75390225 -0.14550003 -0.99996083 -0.83907153]\n",
      "[ 0.87144798 -6.79971146  0.00885166  0.64836083]\n"
     ]
    }
   ],
   "source": [
    "print(np.sin(y))\n",
    "print(np.cos(y))\n",
    "print(np.tan(y))"
   ]
  },
  {
   "cell_type": "markdown",
   "id": "f31e7012-a5cd-4188-a561-e3e5c981fc18",
   "metadata": {},
   "source": [
    "<h4>Statistics</h4>"
   ]
  },
  {
   "cell_type": "code",
   "execution_count": 177,
   "id": "9491e006-8a8a-49b8-a230-330ff5adbe88",
   "metadata": {},
   "outputs": [
    {
     "data": {
      "text/plain": [
       "array([[1, 2, 3],\n",
       "       [4, 7, 6]])"
      ]
     },
     "execution_count": 177,
     "metadata": {},
     "output_type": "execute_result"
    }
   ],
   "source": [
    "stats=np.array([[1,2,3],[4,7,6]])\n",
    "stats"
   ]
  },
  {
   "cell_type": "code",
   "execution_count": 188,
   "id": "1cc97fca-cf35-4237-935b-4dab072979a6",
   "metadata": {},
   "outputs": [
    {
     "name": "stdout",
     "output_type": "stream",
     "text": [
      "[1 4]\n",
      "[3 7]\n",
      "[5 9 9]\n"
     ]
    }
   ],
   "source": [
    "print(np.min(stats,axis=1))\n",
    "print(np.max(stats,axis=1))\n",
    "print(np.sum(stats,axis=0))"
   ]
  },
  {
   "cell_type": "markdown",
   "id": "78014e9e-8cf6-48d2-967e-200f6adff404",
   "metadata": {},
   "source": [
    "<h4>Reorganizing Array</h4>"
   ]
  },
  {
   "cell_type": "code",
   "execution_count": 201,
   "id": "d9b72609-7e90-475e-85b2-ab72ff2741dc",
   "metadata": {},
   "outputs": [
    {
     "name": "stdout",
     "output_type": "stream",
     "text": [
      "[[1 2 3 4]\n",
      " [6 5 7 8]]\n",
      "\n",
      "[[[1 2]\n",
      "  [3 4]]\n",
      "\n",
      " [[6 5]\n",
      "  [7 8]]]\n"
     ]
    }
   ],
   "source": [
    "before=np.array([[1,2,3,4],[6,5,7,8]])\n",
    "print(before)\n",
    "print()\n",
    "after=before.reshape((2,2,2))\n",
    "print(after)"
   ]
  },
  {
   "cell_type": "markdown",
   "id": "517910da-00ce-48d0-b7fc-3fb047cb76e2",
   "metadata": {},
   "source": [
    "<h4>Stack"
   ]
  },
  {
   "cell_type": "code",
   "execution_count": 249,
   "id": "e3026e1e-bd96-45b2-8f95-e1269399e3ee",
   "metadata": {},
   "outputs": [
    {
     "name": "stdout",
     "output_type": "stream",
     "text": [
      "[[1 5]\n",
      " [2 6]\n",
      " [3 7]\n",
      " [4 8]]\n",
      "[[1 2 3 4]\n",
      " [5 6 7 8]\n",
      " [5 6 7 8]\n",
      " [1 2 3 4]]\n",
      "[1 2 3 4 5 6 7 8 5 6 7 8 1 2 3 4]\n"
     ]
    }
   ],
   "source": [
    "arr1=np.array([1,2,3,4])\n",
    "arr2=np.array([5,6,7,8])\n",
    "\n",
    "print(np.stack([arr1,arr2],axis=1))   # stacks the matrix a/c to the axis\n",
    "print(np.vstack([arr1,arr2,arr2,arr1]))  # stacks the element vertically\n",
    "print(np.hstack([arr1,arr2,arr2,arr1]))  # stacks the element vertically"
   ]
  },
  {
   "cell_type": "code",
   "execution_count": 215,
   "id": "d1d513a0-333b-4f15-8db7-c2a43f66f5f6",
   "metadata": {},
   "outputs": [
    {
     "name": "stdout",
     "output_type": "stream",
     "text": [
      "[[1 2 3 4]\n",
      " [5 6 7 8]\n",
      " [5 6 7 9]\n",
      " [1 2 3 4]]\n"
     ]
    },
    {
     "data": {
      "text/plain": [
       "array([2, 7, 9])"
      ]
     },
     "execution_count": 215,
     "metadata": {},
     "output_type": "execute_result"
    }
   ],
   "source": [
    "v=np.array([[1, 2, 3, 4],[5, 6, 7, 8],[5, 6, 7, 9],[1, 2, 3, 4]])\n",
    "print(v)\n",
    "v[1:3,0:2]\n",
    "v[[0,1,2],[1,2,3]]"
   ]
  },
  {
   "cell_type": "code",
   "execution_count": 217,
   "id": "494c1268-0e04-4b84-b75a-dbf212af2552",
   "metadata": {},
   "outputs": [
    {
     "data": {
      "text/plain": [
       "9"
      ]
     },
     "execution_count": 217,
     "metadata": {},
     "output_type": "execute_result"
    }
   ],
   "source": [
    "v[2,3]"
   ]
  },
  {
   "cell_type": "markdown",
   "id": "97a4e7ab-557d-4762-9c47-1f81b14c3d26",
   "metadata": {},
   "source": [
    "# Matrix design"
   ]
  },
  {
   "cell_type": "code",
   "execution_count": 230,
   "id": "20edd210-6025-4755-ba19-66bc3a32d1f0",
   "metadata": {},
   "outputs": [
    {
     "data": {
      "text/plain": [
       "array([[9, 9, 9, 9, 9],\n",
       "       [9, 9, 9, 9, 9],\n",
       "       [9, 9, 9, 9, 9],\n",
       "       [9, 9, 9, 9, 9],\n",
       "       [9, 9, 9, 9, 9]])"
      ]
     },
     "execution_count": 230,
     "metadata": {},
     "output_type": "execute_result"
    }
   ],
   "source": [
    "# 1. create the matrix \n",
    "r=np.full((5,5),9)\n",
    "r"
   ]
  },
  {
   "cell_type": "code",
   "execution_count": 231,
   "id": "70d7442e-3a7b-43f0-96b4-7c3b2df4d0d0",
   "metadata": {},
   "outputs": [
    {
     "data": {
      "text/plain": [
       "array([[0, 0, 0],\n",
       "       [0, 0, 0],\n",
       "       [0, 0, 0]])"
      ]
     },
     "execution_count": 231,
     "metadata": {},
     "output_type": "execute_result"
    }
   ],
   "source": [
    "# 2. create matrix with 0's\n",
    "s=np.zeros((3,3),dtype='int32')\n",
    "s"
   ]
  },
  {
   "cell_type": "code",
   "execution_count": 232,
   "id": "30586a56-002f-4548-8b2c-98cf2e4464c0",
   "metadata": {},
   "outputs": [
    {
     "data": {
      "text/plain": [
       "array([[9, 9, 9, 9, 9],\n",
       "       [9, 0, 0, 0, 9],\n",
       "       [9, 0, 0, 0, 9],\n",
       "       [9, 0, 0, 0, 9],\n",
       "       [9, 9, 9, 9, 9]])"
      ]
     },
     "execution_count": 232,
     "metadata": {},
     "output_type": "execute_result"
    }
   ],
   "source": [
    "# 3. replace the 'r' matrix with 's' by initailzing \n",
    "r[1:4,1:4]=s\n",
    "r"
   ]
  },
  {
   "cell_type": "code",
   "execution_count": 235,
   "id": "e5ed6eb9-b396-4744-9ea5-1439b6b0e34e",
   "metadata": {},
   "outputs": [
    {
     "data": {
      "text/plain": [
       "array([[9, 9, 9, 9, 9],\n",
       "       [9, 0, 0, 0, 9],\n",
       "       [9, 0, 1, 0, 9],\n",
       "       [9, 0, 0, 0, 9],\n",
       "       [9, 9, 9, 9, 9]])"
      ]
     },
     "execution_count": 235,
     "metadata": {},
     "output_type": "execute_result"
    }
   ],
   "source": [
    "# 4. replace the middle element by initailizing\n",
    "r[2,2]=1\n",
    "r"
   ]
  },
  {
   "cell_type": "markdown",
   "id": "74baa095-2c10-4d61-977f-733c5b456334",
   "metadata": {},
   "source": [
    "-----"
   ]
  },
  {
   "cell_type": "markdown",
   "id": "c13b8b2d-dd39-4910-a8f4-e7f7fe56d6bd",
   "metadata": {},
   "source": [
    "<h4>Dimensions</h4>"
   ]
  },
  {
   "cell_type": "code",
   "execution_count": 244,
   "id": "b753ccaf-5cf0-4303-9795-645d23e717ad",
   "metadata": {},
   "outputs": [
    {
     "name": "stdout",
     "output_type": "stream",
     "text": [
      "2\n",
      "2\n"
     ]
    }
   ],
   "source": [
    "# returns the dimension of matrix\n",
    "print(r.ndim)\n",
    "print(before.ndim)"
   ]
  },
  {
   "cell_type": "markdown",
   "id": "6d6a85c4-deca-4fae-a3b3-29a7ff24052f",
   "metadata": {},
   "source": [
    "<h4>Searching"
   ]
  },
  {
   "cell_type": "code",
   "execution_count": 253,
   "id": "13a9d490-aec8-45cd-8dcf-28b35fe3a1e6",
   "metadata": {},
   "outputs": [
    {
     "data": {
      "text/plain": [
       "(array([2], dtype=int64), array([2], dtype=int64))"
      ]
     },
     "execution_count": 253,
     "metadata": {},
     "output_type": "execute_result"
    }
   ],
   "source": [
    "search=np.where(r==1)  # matrix_name == search_value\n",
    "search"
   ]
  },
  {
   "cell_type": "code",
   "execution_count": 259,
   "id": "22458356-09bf-4469-addb-2ff0b8f3939f",
   "metadata": {},
   "outputs": [
    {
     "data": {
      "text/plain": [
       "(array([0, 0, 0, 0, 0, 1, 1, 2, 2, 2, 3, 3, 4, 4, 4, 4, 4], dtype=int64),\n",
       " array([0, 1, 2, 3, 4, 0, 4, 0, 2, 4, 0, 4, 0, 1, 2, 3, 4], dtype=int64))"
      ]
     },
     "execution_count": 259,
     "metadata": {},
     "output_type": "execute_result"
    }
   ],
   "source": [
    "search=np.where(r%2==1)  # matrix_name with condition == search_value\n",
    "search"
   ]
  },
  {
   "cell_type": "markdown",
   "id": "32678c63-8c4d-46d3-a96a-ebb778516c69",
   "metadata": {},
   "source": [
    "<h4>Filtering</h4>"
   ]
  },
  {
   "cell_type": "code",
   "execution_count": 276,
   "id": "e62e24cc-230d-4b4b-a404-f9f9561886ef",
   "metadata": {},
   "outputs": [
    {
     "data": {
      "text/plain": [
       "array([[18, 18, 37, 28, 37],\n",
       "       [19, 32, 10, 23, 20],\n",
       "       [24, 43, 25, 41, 16],\n",
       "       [39, 31, 30, 27, 45],\n",
       "       [36, 48, 19, 33, 29],\n",
       "       [34, 44, 38, 26, 15]])"
      ]
     },
     "execution_count": 276,
     "metadata": {},
     "output_type": "execute_result"
    }
   ],
   "source": [
    "z=np.random.randint(10,50, size=(6,5))\n",
    "z"
   ]
  },
  {
   "cell_type": "code",
   "execution_count": 284,
   "id": "11dc4721-cebf-4ed8-a011-74c5b73c7621",
   "metadata": {},
   "outputs": [
    {
     "data": {
      "text/plain": [
       "array([[False, False,  True, False,  True],\n",
       "       [False, False, False, False, False],\n",
       "       [False,  True, False,  True, False],\n",
       "       [ True, False, False, False,  True],\n",
       "       [ True,  True, False, False, False],\n",
       "       [False,  True,  True, False, False]])"
      ]
     },
     "execution_count": 284,
     "metadata": {},
     "output_type": "execute_result"
    }
   ],
   "source": [
    "z>35  # returns the bool value in the form of matrix"
   ]
  },
  {
   "cell_type": "code",
   "execution_count": 285,
   "id": "2ebea0ec-5e3e-461e-bd04-49151d1a6683",
   "metadata": {},
   "outputs": [
    {
     "data": {
      "text/plain": [
       "array([37, 37, 43, 41, 39, 45, 36, 48, 44, 38])"
      ]
     },
     "execution_count": 285,
     "metadata": {},
     "output_type": "execute_result"
    }
   ],
   "source": [
    "z[z>35]  # returns the elements based on filtering"
   ]
  },
  {
   "cell_type": "code",
   "execution_count": null,
   "id": "5b3929aa-3577-427d-803a-77ad25dbd921",
   "metadata": {},
   "outputs": [],
   "source": []
  }
 ],
 "metadata": {
  "kernelspec": {
   "display_name": "Python 3 (ipykernel)",
   "language": "python",
   "name": "python3"
  },
  "language_info": {
   "codemirror_mode": {
    "name": "ipython",
    "version": 3
   },
   "file_extension": ".py",
   "mimetype": "text/x-python",
   "name": "python",
   "nbconvert_exporter": "python",
   "pygments_lexer": "ipython3",
   "version": "3.12.7"
  }
 },
 "nbformat": 4,
 "nbformat_minor": 5
}
